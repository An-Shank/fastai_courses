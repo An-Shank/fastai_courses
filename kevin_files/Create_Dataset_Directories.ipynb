{
 "cells": [
  {
   "cell_type": "code",
   "execution_count": 68,
   "metadata": {
    "collapsed": false
   },
   "outputs": [
    {
     "name": "stdout",
     "output_type": "stream",
     "text": [
      "/home/ubuntu/courses/kevin_files/data/distracted-driving/\n"
     ]
    }
   ],
   "source": [
    "import os, sys\n",
    "import numpy as np\n",
    "import glob as glob\n",
    "from shutil import copyfile\n",
    "LESSON_HOME_DIR = '/home/ubuntu/courses/kevin_files/'\n",
    "DATA_HOME_DIR = LESSON_HOME_DIR+'data/distracted-driving/'\n",
    "print DATA_HOME_DIR"
   ]
  },
  {
   "cell_type": "code",
   "execution_count": 4,
   "metadata": {
    "collapsed": false
   },
   "outputs": [
    {
     "name": "stdout",
     "output_type": "stream",
     "text": [
      "/home/ubuntu/courses/kevin_files/data/distracted-driving\n"
     ]
    }
   ],
   "source": [
    "#Create directories\n",
    "%cd $DATA_HOME_DIR\n",
    "%mkdir valid\n",
    "%mkdir results\n",
    "%mkdir -p sample/train\n",
    "%mkdir -p sample/test\n",
    "%mkdir -p sample/valid\n",
    "%mkdir -p sample/results\n",
    "%mkdir -p test/unknown"
   ]
  },
  {
   "cell_type": "code",
   "execution_count": 64,
   "metadata": {
    "collapsed": false
   },
   "outputs": [
    {
     "name": "stdout",
     "output_type": "stream",
     "text": [
      "c7/img_71703.jpg\n"
     ]
    }
   ],
   "source": [
    "##Create regex for pulling file and subdir out of full filename\n",
    "import re\n",
    "train_regex = re.compile('/train/.*\\.jpg')\n",
    "result = train_regex.findall('/home/ubuntu/courses/kevin_files/data/distracted-driving/train/c7/img_71703.jpg')\n",
    "print result[0][7:]"
   ]
  },
  {
   "cell_type": "code",
   "execution_count": 67,
   "metadata": {
    "collapsed": false
   },
   "outputs": [],
   "source": [
    "##Make valid directory and files\n",
    "for subdir, dirs, files in os.walk(DATA_HOME_DIR+\"train\"):\n",
    "    \n",
    "    if subdir == DATA_HOME_DIR+\"train\":\n",
    "        for dir_name in dirs:\n",
    "            try: ##Kinda Hacky\n",
    "                os.makedirs(DATA_HOME_DIR+'valid/'+dir_name)\n",
    "            except:\n",
    "                pass\n",
    "            \n",
    "    else:\n",
    "        g = glob.glob(subdir+'/*.jpg')\n",
    "        shuf = np.random.permutation(g)\n",
    "        for i in range(len(files)/10): \n",
    "            file_and_dir = train_regex.findall(shuf[i])[0][7:] ##Kinda Hacky\n",
    "            #print(shuf[i], DATA_HOME_DIR+'valid/' + file_and_dir)\n",
    "            os.rename(shuf[i], DATA_HOME_DIR+'valid/' + file_and_dir)"
   ]
  },
  {
   "cell_type": "code",
   "execution_count": 69,
   "metadata": {
    "collapsed": false
   },
   "outputs": [],
   "source": [
    "##Make sample/valid directory and files\n",
    "for subdir, dirs, files in os.walk(DATA_HOME_DIR+\"train\"):\n",
    "    \n",
    "    if subdir == DATA_HOME_DIR+\"train\":\n",
    "        for dir_name in dirs:\n",
    "            try: ##Kinda Hacky\n",
    "                os.makedirs(DATA_HOME_DIR+'sample/valid/'+dir_name)\n",
    "            except:\n",
    "                pass\n",
    "            \n",
    "    else:\n",
    "        g = glob.glob(subdir+'/*.jpg')\n",
    "        shuf = np.random.permutation(g)\n",
    "        for i in range(20): \n",
    "            file_and_dir = train_regex.findall(shuf[i])[0][7:] ##Kinda Hacky\n",
    "            #print(shuf[i], DATA_HOME_DIR+'valid/' + file_and_dir)\n",
    "            os.rename(shuf[i], DATA_HOME_DIR+'sample/valid/' + file_and_dir)"
   ]
  },
  {
   "cell_type": "code",
   "execution_count": 70,
   "metadata": {
    "collapsed": true
   },
   "outputs": [],
   "source": [
    "##Make sample/train directory and files\n",
    "for subdir, dirs, files in os.walk(DATA_HOME_DIR+\"train\"):\n",
    "    \n",
    "    if subdir == DATA_HOME_DIR+\"train\":\n",
    "        for dir_name in dirs:\n",
    "            try: ##Kinda Hacky\n",
    "                os.makedirs(DATA_HOME_DIR+'sample/train/'+dir_name)\n",
    "            except:\n",
    "                pass\n",
    "            \n",
    "    else:\n",
    "        g = glob.glob(subdir+'/*.jpg')\n",
    "        shuf = np.random.permutation(g)\n",
    "        for i in range(50): \n",
    "            file_and_dir = train_regex.findall(shuf[i])[0][7:] ##Kinda Hacky\n",
    "            #print(shuf[i], DATA_HOME_DIR+'valid/' + file_and_dir)\n",
    "            os.rename(shuf[i], DATA_HOME_DIR+'sample/train/' + file_and_dir)"
   ]
  },
  {
   "cell_type": "code",
   "execution_count": 72,
   "metadata": {
    "collapsed": true
   },
   "outputs": [],
   "source": [
    "##Make sample/test files\n",
    "test_regex = re.compile('/test/.*\\.jpg')\n",
    "g = glob.glob(DATA_HOME_DIR+'/test/*.jpg')\n",
    "shuf = np.random.permutation(g)\n",
    "for i in range(500): \n",
    "    file_and_dir = test_regex.findall(shuf[i])[0] ##Kinda Hacky\n",
    "    #print(shuf[i], DATA_HOME_DIR+'valid/' + file_and_dir)\n",
    "    os.rename(shuf[i], DATA_HOME_DIR+'sample/' + file_and_dir)"
   ]
  },
  {
   "cell_type": "code",
   "execution_count": null,
   "metadata": {
    "collapsed": true
   },
   "outputs": [],
   "source": []
  }
 ],
 "metadata": {
  "anaconda-cloud": {},
  "kernelspec": {
   "display_name": "Python [conda root]",
   "language": "python",
   "name": "conda-root-py"
  },
  "language_info": {
   "codemirror_mode": {
    "name": "ipython",
    "version": 2
   },
   "file_extension": ".py",
   "mimetype": "text/x-python",
   "name": "python",
   "nbconvert_exporter": "python",
   "pygments_lexer": "ipython2",
   "version": "2.7.12"
  }
 },
 "nbformat": 4,
 "nbformat_minor": 1
}
