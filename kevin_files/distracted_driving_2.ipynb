{
 "cells": [
  {
   "cell_type": "code",
   "execution_count": 97,
   "metadata": {
    "collapsed": true
   },
   "outputs": [],
   "source": [
    "##Make matplotlib inline\n",
    "%matplotlib inline"
   ]
  },
  {
   "cell_type": "code",
   "execution_count": 98,
   "metadata": {
    "collapsed": true
   },
   "outputs": [],
   "source": [
    "##Print data directory structure for reference"
   ]
  },
  {
   "cell_type": "code",
   "execution_count": 99,
   "metadata": {
    "collapsed": false
   },
   "outputs": [
    {
     "name": "stdout",
     "output_type": "stream",
     "text": [
      "data/distracted-driving/\n",
      "├── sample\n",
      "│   ├── test\n",
      "│   │   └── unkown\n",
      "│   ├── train\n",
      "│   │   ├── c0\n",
      "│   │   ├── c1\n",
      "│   │   ├── c2\n",
      "│   │   ├── c3\n",
      "│   │   ├── c4\n",
      "│   │   ├── c5\n",
      "│   │   ├── c6\n",
      "│   │   ├── c7\n",
      "│   │   ├── c8\n",
      "│   │   └── c9\n",
      "│   └── valid\n",
      "│       ├── c0\n",
      "│       ├── c1\n",
      "│       ├── c2\n",
      "│       ├── c3\n",
      "│       ├── c4\n",
      "│       ├── c5\n",
      "│       ├── c6\n",
      "│       ├── c7\n",
      "│       ├── c8\n",
      "│       └── c9\n",
      "├── test\n",
      "│   └── unkown\n",
      "├── train\n",
      "│   ├── c0\n",
      "│   ├── c1\n",
      "│   ├── c2\n",
      "│   ├── c3\n",
      "│   ├── c4\n",
      "│   ├── c5\n",
      "│   ├── c6\n",
      "│   ├── c7\n",
      "│   ├── c8\n",
      "│   └── c9\n",
      "└── valid\n",
      "    ├── c0\n",
      "    ├── c1\n",
      "    ├── c2\n",
      "    ├── c3\n",
      "    ├── c4\n",
      "    ├── c5\n",
      "    ├── c6\n",
      "    ├── c7\n",
      "    ├── c8\n",
      "    └── c9\n",
      "\n",
      "49 directories\n"
     ]
    }
   ],
   "source": [
    "%%bash\n",
    "tree -d data/distracted-driving/"
   ]
  },
  {
   "cell_type": "code",
   "execution_count": 100,
   "metadata": {
    "collapsed": false
   },
   "outputs": [
    {
     "name": "stdout",
     "output_type": "stream",
     "text": [
      "Create_Dataset_Directories.ipynb  \u001b[0m\u001b[01;34mdistracted-driving-results\u001b[0m/  \u001b[01;32mvgg16bn.py\u001b[0m*\r\n",
      "\u001b[01;34mdata\u001b[0m/                             kevin_lesson1.ipynb          vgg16bn.pyc\r\n",
      "distracted_driving_2.ipynb        lesson1.ipynb                \u001b[01;32mvgg16.py\u001b[0m*\r\n",
      "distracted_driving.ipynb          \u001b[01;32mutils.py\u001b[0m*                    vgg16.pyc\r\n",
      "\u001b[01;34mdistracted_driving_results\u001b[0m/       utils.pyc\r\n"
     ]
    }
   ],
   "source": [
    "##List files in current directory for reference\n",
    "%ls"
   ]
  },
  {
   "cell_type": "code",
   "execution_count": 101,
   "metadata": {
    "collapsed": false
   },
   "outputs": [],
   "source": [
    "##Import and initialize vgg\n",
    "import utils\n",
    "import vgg16; reload(vgg16)\n",
    "from vgg16 import Vgg16\n",
    "vgg = Vgg16()"
   ]
  },
  {
   "cell_type": "code",
   "execution_count": 102,
   "metadata": {
    "collapsed": true
   },
   "outputs": [],
   "source": [
    "##Set directory to either sample or full\n",
    "\n",
    "##For sample data\n",
    "path = \"data/distracted-driving/sample/\"\n",
    "results_path = 'distracted-driving-results/sample/'\n",
    "\n",
    "##For full data\n",
    "#path = \"data/distracted-driving/\"\n",
    "#results_path = 'distracted-driving-results/'"
   ]
  },
  {
   "cell_type": "code",
   "execution_count": 103,
   "metadata": {
    "collapsed": false
   },
   "outputs": [
    {
     "name": "stdout",
     "output_type": "stream",
     "text": [
      "Found 500 images belonging to 10 classes.\n"
     ]
    }
   ],
   "source": [
    "##Get batches for training\n",
    "batches = vgg.get_batches(directory+'train', batch_size=32)"
   ]
  },
  {
   "cell_type": "code",
   "execution_count": 104,
   "metadata": {
    "collapsed": true
   },
   "outputs": [],
   "source": [
    "##Finetune the model for distracted driving competition\n",
    "vgg.finetune(batches)"
   ]
  },
  {
   "cell_type": "code",
   "execution_count": 105,
   "metadata": {
    "collapsed": false
   },
   "outputs": [
    {
     "name": "stdout",
     "output_type": "stream",
     "text": [
      "Found 200 images belonging to 10 classes.\n"
     ]
    }
   ],
   "source": [
    "##Get batches for validation\n",
    "valid_batches = vgg.get_batches(directory+'valid')"
   ]
  },
  {
   "cell_type": "code",
   "execution_count": 106,
   "metadata": {
    "collapsed": false
   },
   "outputs": [
    {
     "name": "stdout",
     "output_type": "stream",
     "text": [
      "Epoch 1/1\n",
      "500/500 [==============================] - 17s - loss: 4.1544 - acc: 0.0980 - val_loss: 2.3378 - val_acc: 0.2350\n"
     ]
    }
   ],
   "source": [
    "##Fit model for distracted driving\n",
    "vgg.fit(batches, valid_batches, nb_epoch=1)"
   ]
  },
  {
   "cell_type": "code",
   "execution_count": 107,
   "metadata": {
    "collapsed": false
   },
   "outputs": [
    {
     "name": "stdout",
     "output_type": "stream",
     "text": [
      "Found 500 images belonging to 1 classes.\n"
     ]
    }
   ],
   "source": [
    "##Test our newly fitted model\n",
    "test_batches, results = vgg.test(directory+'test', batch_size=64)"
   ]
  },
  {
   "cell_type": "code",
   "execution_count": 108,
   "metadata": {
    "collapsed": false
   },
   "outputs": [],
   "source": [
    "##Save filenames and results for later so we don't need to rerun if something happens\n",
    "import numpy as np\n",
    "import datetime\n",
    "now_string = datetime.datetime.now().strftime('%Y-%m-%d_%H-%M-%S')\n",
    "\n",
    "#Save as current\n",
    "np.save(results_path+'predictions.dat',results)\n",
    "np.save(results_path+'filenames.dat',test_batches.filenames)\n",
    "#Save as archive\n",
    "np.save(results_path+'archive/predictions_'+now_string+'.dat',results)\n",
    "np.save(results_path+'archive/filenames_'+now_string+'.dat',test_batches.filenames)\n",
    "\n",
    "##Save weights as well\n",
    "#save as current\n",
    "vgg.model.save_weights(results_path+'current_ft.h5')\n",
    "#save as archive\n",
    "vgg.model.save_weights(results_path+'archive/current_ft_'+now_string+'.h5')"
   ]
  },
  {
   "cell_type": "code",
   "execution_count": 109,
   "metadata": {
    "collapsed": false
   },
   "outputs": [
    {
     "data": {
      "text/plain": [
       "array([[ 0.0071,  0.1225,  0.0681, ...,  0.293 ,  0.0535,  0.0714],\n",
       "       [ 0.0211,  0.0961,  0.072 , ...,  0.2863,  0.0209,  0.0852],\n",
       "       [ 0.0072,  0.037 ,  0.0594, ...,  0.0168,  0.1055,  0.1623],\n",
       "       ..., \n",
       "       [ 0.0024,  0.1308,  0.5116, ...,  0.1279,  0.0289,  0.0395],\n",
       "       [ 0.2965,  0.0189,  0.1227, ...,  0.1235,  0.0662,  0.0124],\n",
       "       [ 0.0151,  0.0812,  0.011 , ...,  0.4612,  0.0919,  0.0378]], dtype=float32)"
      ]
     },
     "execution_count": 109,
     "metadata": {},
     "output_type": "execute_result"
    }
   ],
   "source": [
    "##Show the results array\n",
    "results"
   ]
  },
  {
   "cell_type": "code",
   "execution_count": 110,
   "metadata": {
    "collapsed": false
   },
   "outputs": [
    {
     "data": {
      "text/plain": [
       "0    img_37018.jpg\n",
       "1    img_27446.jpg\n",
       "2    img_36492.jpg\n",
       "3    img_91370.jpg\n",
       "4    img_84064.jpg\n",
       "Name: img, dtype: object"
      ]
     },
     "execution_count": 110,
     "metadata": {},
     "output_type": "execute_result"
    }
   ],
   "source": [
    "##Create a pd series of the filenames in the test directory\n",
    "import pandas as pd\n",
    "import os\n",
    "filenames = pd.Series(test_batches.filenames, name='img')\n",
    "filenames = filenames.str.split('/').str.get(-1) ##Remove directory from filename\n",
    "filenames.head()"
   ]
  },
  {
   "cell_type": "code",
   "execution_count": 111,
   "metadata": {
    "collapsed": false
   },
   "outputs": [
    {
     "data": {
      "text/html": [
       "<div>\n",
       "<table border=\"1\" class=\"dataframe\">\n",
       "  <thead>\n",
       "    <tr style=\"text-align: right;\">\n",
       "      <th></th>\n",
       "      <th>img</th>\n",
       "      <th>c0</th>\n",
       "      <th>c1</th>\n",
       "      <th>c2</th>\n",
       "      <th>c3</th>\n",
       "      <th>c4</th>\n",
       "      <th>c5</th>\n",
       "      <th>c6</th>\n",
       "      <th>c7</th>\n",
       "      <th>c8</th>\n",
       "      <th>c9</th>\n",
       "    </tr>\n",
       "  </thead>\n",
       "  <tbody>\n",
       "    <tr>\n",
       "      <th>0</th>\n",
       "      <td>img_37018.jpg</td>\n",
       "      <td>0.007131</td>\n",
       "      <td>0.122472</td>\n",
       "      <td>0.068136</td>\n",
       "      <td>0.011123</td>\n",
       "      <td>0.001880</td>\n",
       "      <td>0.042930</td>\n",
       "      <td>0.328448</td>\n",
       "      <td>0.292999</td>\n",
       "      <td>0.053465</td>\n",
       "      <td>0.071416</td>\n",
       "    </tr>\n",
       "    <tr>\n",
       "      <th>1</th>\n",
       "      <td>img_27446.jpg</td>\n",
       "      <td>0.021074</td>\n",
       "      <td>0.096113</td>\n",
       "      <td>0.072016</td>\n",
       "      <td>0.031247</td>\n",
       "      <td>0.017283</td>\n",
       "      <td>0.226184</td>\n",
       "      <td>0.143637</td>\n",
       "      <td>0.286348</td>\n",
       "      <td>0.020864</td>\n",
       "      <td>0.085233</td>\n",
       "    </tr>\n",
       "    <tr>\n",
       "      <th>2</th>\n",
       "      <td>img_36492.jpg</td>\n",
       "      <td>0.007173</td>\n",
       "      <td>0.037045</td>\n",
       "      <td>0.059379</td>\n",
       "      <td>0.262982</td>\n",
       "      <td>0.001703</td>\n",
       "      <td>0.021470</td>\n",
       "      <td>0.325767</td>\n",
       "      <td>0.016758</td>\n",
       "      <td>0.105454</td>\n",
       "      <td>0.162268</td>\n",
       "    </tr>\n",
       "    <tr>\n",
       "      <th>3</th>\n",
       "      <td>img_91370.jpg</td>\n",
       "      <td>0.031195</td>\n",
       "      <td>0.080461</td>\n",
       "      <td>0.161758</td>\n",
       "      <td>0.033912</td>\n",
       "      <td>0.113336</td>\n",
       "      <td>0.091234</td>\n",
       "      <td>0.297550</td>\n",
       "      <td>0.075476</td>\n",
       "      <td>0.100556</td>\n",
       "      <td>0.014522</td>\n",
       "    </tr>\n",
       "    <tr>\n",
       "      <th>4</th>\n",
       "      <td>img_84064.jpg</td>\n",
       "      <td>0.047730</td>\n",
       "      <td>0.165801</td>\n",
       "      <td>0.048984</td>\n",
       "      <td>0.004110</td>\n",
       "      <td>0.063262</td>\n",
       "      <td>0.012731</td>\n",
       "      <td>0.444298</td>\n",
       "      <td>0.175747</td>\n",
       "      <td>0.020692</td>\n",
       "      <td>0.016643</td>\n",
       "    </tr>\n",
       "  </tbody>\n",
       "</table>\n",
       "</div>"
      ],
      "text/plain": [
       "             img        c0        c1        c2        c3        c4        c5  \\\n",
       "0  img_37018.jpg  0.007131  0.122472  0.068136  0.011123  0.001880  0.042930   \n",
       "1  img_27446.jpg  0.021074  0.096113  0.072016  0.031247  0.017283  0.226184   \n",
       "2  img_36492.jpg  0.007173  0.037045  0.059379  0.262982  0.001703  0.021470   \n",
       "3  img_91370.jpg  0.031195  0.080461  0.161758  0.033912  0.113336  0.091234   \n",
       "4  img_84064.jpg  0.047730  0.165801  0.048984  0.004110  0.063262  0.012731   \n",
       "\n",
       "         c6        c7        c8        c9  \n",
       "0  0.328448  0.292999  0.053465  0.071416  \n",
       "1  0.143637  0.286348  0.020864  0.085233  \n",
       "2  0.325767  0.016758  0.105454  0.162268  \n",
       "3  0.297550  0.075476  0.100556  0.014522  \n",
       "4  0.444298  0.175747  0.020692  0.016643  "
      ]
     },
     "execution_count": 111,
     "metadata": {},
     "output_type": "execute_result"
    }
   ],
   "source": [
    "##Create dataframe with results and filenames\n",
    "\n",
    "#convert results array to df\n",
    "df = pd.DataFrame(results, columns=['c0', 'c1', 'c2', 'c3', 'c4', 'c5', 'c6', 'c7', 'c8', 'c9'])\n",
    "\n",
    "#add filename column\n",
    "df['img'] = filenames\n",
    "\n",
    "#make filename col first\n",
    "cols = df.columns.tolist()\n",
    "cols = cols[-1:] + cols[:-1]\n",
    "df = df[cols]\n",
    "\n",
    "df.head()"
   ]
  },
  {
   "cell_type": "code",
   "execution_count": 112,
   "metadata": {
    "collapsed": false
   },
   "outputs": [],
   "source": [
    "##Save submission file to current and archive\n",
    "df.to_csv(results_path+'submission.csv', index=False)\n",
    "df.to_csv(results_path+'archive/submission_'+now_string+'.csv', index=False)"
   ]
  },
  {
   "cell_type": "code",
   "execution_count": 113,
   "metadata": {
    "collapsed": true
   },
   "outputs": [],
   "source": [
    "##Print results directory for reference"
   ]
  },
  {
   "cell_type": "code",
   "execution_count": 114,
   "metadata": {
    "collapsed": false
   },
   "outputs": [
    {
     "name": "stdout",
     "output_type": "stream",
     "text": [
      "distracted-driving-results/sample/\n",
      "├── archive\n",
      "│   ├── current_ft_2017-09-18_13-08-05.h5\n",
      "│   ├── current_ft_2017-09-18_13-09-30.h5\n",
      "│   ├── filenames_2017-09-18_13-08-05.dat.npy\n",
      "│   ├── filenames_2017-09-18_13-09-30.dat.npy\n",
      "│   ├── predictions_2017-09-18_13-08-05.dat.npy\n",
      "│   ├── predictions_2017-09-18_13-09-30.dat.npy\n",
      "│   └── submission_2017-09-18_13-09-30.csv\n",
      "├── current_ft.h5\n",
      "├── filenames.dat.npy\n",
      "├── predictions.dat.npy\n",
      "└── submission.csv\n",
      "\n",
      "1 directory, 11 files\n"
     ]
    }
   ],
   "source": [
    "%%bash\n",
    "tree distracted-driving-results/sample/"
   ]
  },
  {
   "cell_type": "code",
   "execution_count": null,
   "metadata": {
    "collapsed": true
   },
   "outputs": [],
   "source": []
  }
 ],
 "metadata": {
  "anaconda-cloud": {},
  "kernelspec": {
   "display_name": "Python [conda root]",
   "language": "python",
   "name": "conda-root-py"
  },
  "language_info": {
   "codemirror_mode": {
    "name": "ipython",
    "version": 2
   },
   "file_extension": ".py",
   "mimetype": "text/x-python",
   "name": "python",
   "nbconvert_exporter": "python",
   "pygments_lexer": "ipython2",
   "version": "2.7.12"
  }
 },
 "nbformat": 4,
 "nbformat_minor": 1
}
