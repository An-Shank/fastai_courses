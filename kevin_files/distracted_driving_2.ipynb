{
 "cells": [
  {
   "cell_type": "code",
   "execution_count": 140,
   "metadata": {
    "collapsed": true
   },
   "outputs": [],
   "source": [
    "##Make matplotlib inline\n",
    "%matplotlib inline"
   ]
  },
  {
   "cell_type": "code",
   "execution_count": 141,
   "metadata": {
    "collapsed": true
   },
   "outputs": [],
   "source": [
    "##Print data directory structure for reference"
   ]
  },
  {
   "cell_type": "code",
   "execution_count": 142,
   "metadata": {
    "collapsed": false
   },
   "outputs": [
    {
     "name": "stdout",
     "output_type": "stream",
     "text": [
      "data/distracted-driving/\n",
      "├── sample\n",
      "│   ├── test\n",
      "│   │   └── unkown\n",
      "│   ├── train\n",
      "│   │   ├── c0\n",
      "│   │   ├── c1\n",
      "│   │   ├── c2\n",
      "│   │   ├── c3\n",
      "│   │   ├── c4\n",
      "│   │   ├── c5\n",
      "│   │   ├── c6\n",
      "│   │   ├── c7\n",
      "│   │   ├── c8\n",
      "│   │   └── c9\n",
      "│   └── valid\n",
      "│       ├── c0\n",
      "│       ├── c1\n",
      "│       ├── c2\n",
      "│       ├── c3\n",
      "│       ├── c4\n",
      "│       ├── c5\n",
      "│       ├── c6\n",
      "│       ├── c7\n",
      "│       ├── c8\n",
      "│       └── c9\n",
      "├── test\n",
      "│   └── unkown\n",
      "├── train\n",
      "│   ├── c0\n",
      "│   ├── c1\n",
      "│   ├── c2\n",
      "│   ├── c3\n",
      "│   ├── c4\n",
      "│   ├── c5\n",
      "│   ├── c6\n",
      "│   ├── c7\n",
      "│   ├── c8\n",
      "│   └── c9\n",
      "└── valid\n",
      "    ├── c0\n",
      "    ├── c1\n",
      "    ├── c2\n",
      "    ├── c3\n",
      "    ├── c4\n",
      "    ├── c5\n",
      "    ├── c6\n",
      "    ├── c7\n",
      "    ├── c8\n",
      "    └── c9\n",
      "\n",
      "49 directories\n"
     ]
    }
   ],
   "source": [
    "%%bash\n",
    "tree -d data/distracted-driving/"
   ]
  },
  {
   "cell_type": "code",
   "execution_count": 143,
   "metadata": {
    "collapsed": false
   },
   "outputs": [
    {
     "name": "stdout",
     "output_type": "stream",
     "text": [
      "Create_Dataset_Directories.ipynb  kevin_lesson1.ipynb  vgg16bn.pyc\r\n",
      "\u001b[0m\u001b[01;34mdata\u001b[0m/                             lesson1.ipynb        \u001b[01;32mvgg16.py\u001b[0m*\r\n",
      "distracted_driving_2.ipynb        \u001b[01;32mutils.py\u001b[0m*            vgg16.pyc\r\n",
      "distracted_driving.ipynb          utils.pyc\r\n",
      "\u001b[01;34mdistracted-driving-results\u001b[0m/       \u001b[01;32mvgg16bn.py\u001b[0m*\r\n"
     ]
    }
   ],
   "source": [
    "##List files in current directory for reference\n",
    "%ls"
   ]
  },
  {
   "cell_type": "code",
   "execution_count": 144,
   "metadata": {
    "collapsed": true
   },
   "outputs": [],
   "source": [
    "##Set directory to either sample or full\n",
    "\n",
    "##For sample data\n",
    "#directory = \"data/distracted-driving/sample/\"\n",
    "#results_path = 'distracted-driving-results/sample/'\n",
    "\n",
    "##For full data\n",
    "directory = \"data/distracted-driving/\"\n",
    "results_path = 'distracted-driving-results/'"
   ]
  },
  {
   "cell_type": "code",
   "execution_count": 145,
   "metadata": {
    "collapsed": false
   },
   "outputs": [],
   "source": [
    "##Import and initialize vgg\n",
    "import utils\n",
    "import vgg16; reload(vgg16)\n",
    "from vgg16 import Vgg16\n",
    "vgg = Vgg16()"
   ]
  },
  {
   "cell_type": "code",
   "execution_count": 146,
   "metadata": {
    "collapsed": false
   },
   "outputs": [
    {
     "name": "stdout",
     "output_type": "stream",
     "text": [
      "Found 19487 images belonging to 10 classes.\n"
     ]
    }
   ],
   "source": [
    "##Get batches for training\n",
    "batches = vgg.get_batches(directory+'train', batch_size=32)"
   ]
  },
  {
   "cell_type": "code",
   "execution_count": 147,
   "metadata": {
    "collapsed": true
   },
   "outputs": [],
   "source": [
    "##Finetune the model for distracted driving competition\n",
    "vgg.finetune(batches)"
   ]
  },
  {
   "cell_type": "code",
   "execution_count": 148,
   "metadata": {
    "collapsed": false,
    "scrolled": true
   },
   "outputs": [
    {
     "name": "stdout",
     "output_type": "stream",
     "text": [
      "Found 2237 images belonging to 10 classes.\n"
     ]
    }
   ],
   "source": [
    "##Get batches for validation\n",
    "valid_batches = vgg.get_batches(directory+'valid')"
   ]
  },
  {
   "cell_type": "code",
   "execution_count": null,
   "metadata": {
    "collapsed": false
   },
   "outputs": [
    {
     "name": "stdout",
     "output_type": "stream",
     "text": [
      "Epoch 1/1\n",
      "19487/19487 [==============================] - 537s - loss: 1.7996 - acc: 0.4972 - val_loss: 0.4421 - val_acc: 0.8677\n"
     ]
    }
   ],
   "source": [
    "##Fit model for distracted driving\n",
    "vgg.fit(batches, valid_batches, nb_epoch=1)"
   ]
  },
  {
   "cell_type": "code",
   "execution_count": null,
   "metadata": {
    "collapsed": true
   },
   "outputs": [],
   "source": [
    "import datetime\n",
    "now_string = datetime.datetime.now().strftime('%Y-%m-%d_%H-%M-%S')"
   ]
  },
  {
   "cell_type": "code",
   "execution_count": null,
   "metadata": {
    "collapsed": false
   },
   "outputs": [
    {
     "name": "stdout",
     "output_type": "stream",
     "text": [
      "Found 79726 images belonging to 1 classes.\n"
     ]
    }
   ],
   "source": [
    "##Test our newly fitted model\n",
    "test_batches, results = vgg.test(directory+'test', batch_size=64)"
   ]
  },
  {
   "cell_type": "code",
   "execution_count": null,
   "metadata": {
    "collapsed": false
   },
   "outputs": [],
   "source": [
    "##Save filenames and results for later so we don't need to rerun if something happens\n",
    "import numpy as np\n",
    "\n",
    "#Save as current\n",
    "np.save(results_path+'predictions.dat',results)\n",
    "np.save(results_path+'filenames.dat',test_batches.filenames)\n",
    "#Save as archive\n",
    "np.save(results_path+'archive/predictions_'+now_string+'.dat',results)\n",
    "np.save(results_path+'archive/filenames_'+now_string+'.dat',test_batches.filenames)"
   ]
  },
  {
   "cell_type": "code",
   "execution_count": null,
   "metadata": {
    "collapsed": false
   },
   "outputs": [],
   "source": [
    "##Show the results array\n",
    "results"
   ]
  },
  {
   "cell_type": "code",
   "execution_count": null,
   "metadata": {
    "collapsed": false
   },
   "outputs": [],
   "source": [
    "##Create a pd series of the filenames in the test directory\n",
    "import pandas as pd\n",
    "import os\n",
    "filenames = pd.Series(test_batches.filenames, name='img')\n",
    "filenames = filenames.str.split('/').str.get(-1) ##Remove directory from filename\n",
    "filenames.head()"
   ]
  },
  {
   "cell_type": "code",
   "execution_count": null,
   "metadata": {
    "collapsed": false
   },
   "outputs": [],
   "source": [
    "##Create dataframe with results and filenames\n",
    "\n",
    "#convert results array to df\n",
    "df = pd.DataFrame(results, columns=['c0', 'c1', 'c2', 'c3', 'c4', 'c5', 'c6', 'c7', 'c8', 'c9'])\n",
    "\n",
    "#add filename column\n",
    "df['img'] = filenames\n",
    "\n",
    "#make filename col first\n",
    "cols = df.columns.tolist()\n",
    "cols = cols[-1:] + cols[:-1]\n",
    "df = df[cols]\n",
    "\n",
    "df.head()"
   ]
  },
  {
   "cell_type": "code",
   "execution_count": null,
   "metadata": {
    "collapsed": false
   },
   "outputs": [],
   "source": [
    "##Save submission file to current and archive\n",
    "df.to_csv(results_path+'submission.csv', index=False)\n",
    "df.to_csv(results_path+'archive/submission_'+now_string+'.csv', index=False)"
   ]
  },
  {
   "cell_type": "code",
   "execution_count": null,
   "metadata": {
    "collapsed": true
   },
   "outputs": [],
   "source": [
    "##Print results directory for reference"
   ]
  },
  {
   "cell_type": "code",
   "execution_count": null,
   "metadata": {
    "collapsed": false
   },
   "outputs": [],
   "source": [
    "%%bash\n",
    "tree distracted-driving-results/sample/"
   ]
  },
  {
   "cell_type": "code",
   "execution_count": null,
   "metadata": {
    "collapsed": true
   },
   "outputs": [],
   "source": []
  }
 ],
 "metadata": {
  "anaconda-cloud": {},
  "kernelspec": {
   "display_name": "Python [conda root]",
   "language": "python",
   "name": "conda-root-py"
  },
  "language_info": {
   "codemirror_mode": {
    "name": "ipython",
    "version": 2
   },
   "file_extension": ".py",
   "mimetype": "text/x-python",
   "name": "python",
   "nbconvert_exporter": "python",
   "pygments_lexer": "ipython2",
   "version": "2.7.12"
  }
 },
 "nbformat": 4,
 "nbformat_minor": 1
}
